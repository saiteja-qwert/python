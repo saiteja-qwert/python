{
 "cells": [
  {
   "cell_type": "code",
   "execution_count": null,
   "metadata": {},
   "outputs": [],
   "source": [
    "def dataanalysiswordcount(filename,word):\n",
    "    f=open(filename,'r')\n",
    "    if f.mode=='r'\n",
    "    x=f.read()\n",
    "    list=x.split()\n",
    "    cnt+=list.count(word)\n",
    "    return cnt\n",
    "print( dataanalysiswordcount('flie1.text','rest'))"
   ]
  },
  {
   "cell_type": "code",
   "execution_count": null,
   "metadata": {},
   "outputs": [],
   "source": [
    "def countcharacter(filename):\n",
    "    f=open(filename,\"r\")\n",
    "    if f.mode==\"r\":\n",
    "        x=f.read\n",
    "        lst=list(x)\n",
    "    return len(lst)\n",
    "print(countcharacter(\"file1.txt\"))"
   ]
  },
  {
   "cell_type": "code",
   "execution_count": null,
   "metadata": {},
   "outputs": [],
   "source": [
    "def uppercasecount(filename):\n",
    "        f=open(filename,\"r\")\n",
    "        if f.mode==\"r\":\n",
    "            x=f.read()\n",
    "            lst=list(x)\n",
    "        for i in lst:\n",
    "            if i.isupper():\n",
    "                cntUpper+=1\n",
    "        return cntUpper\n",
    "uppercasecount(\"file1.txt\")"
   ]
  },
  {
   "cell_type": "code",
   "execution_count": null,
   "metadata": {},
   "outputs": [],
   "source": [
    "def appendData(filename):\n",
    "    f=open(filename,\"a\")\n",
    "    f.write(\"New line 1\\n\")\n",
    "    f.write(\"New line 2\\n\")\n",
    "    f.close()\n",
    "    return \n",
    "appendData(\"File1.txt\")  "
   ]
  },
  {
   "cell_type": "code",
   "execution_count": null,
   "metadata": {},
   "outputs": [],
   "source": [
    "import re\n",
    "def phonenumbervalidate(phone):\n",
    "    pattern='^[6-9][0-9]{9}$'\n",
    "    phone=str(phone)\n",
    "    if re.match(pattern,phone):\n",
    "        return true\n",
    "    return true\n",
    "print(phonenumbervalidate(575247892))\n",
    "print(phonenumbervalidate(123456789))"
   ]
  },
  {
   "cell_type": "code",
   "execution_count": null,
   "metadata": {},
   "outputs": [],
   "source": [
    "import re\n",
    "def validateemailid(email):\n",
    "    "
   ]
  }
 ],
 "metadata": {
  "kernelspec": {
   "display_name": "Python 3",
   "language": "python",
   "name": "python3"
  },
  "language_info": {
   "codemirror_mode": {
    "name": "ipython",
    "version": 3
   },
   "file_extension": ".py",
   "mimetype": "text/x-python",
   "name": "python",
   "nbconvert_exporter": "python",
   "pygments_lexer": "ipython3",
   "version": "3.7.3"
  }
 },
 "nbformat": 4,
 "nbformat_minor": 2
}
