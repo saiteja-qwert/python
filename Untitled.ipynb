{
 "cells": [
  {
   "cell_type": "code",
   "execution_count": 8,
   "metadata": {},
   "outputs": [
    {
     "name": "stdout",
     "output_type": "stream",
     "text": [
      "1 2 3 4 6 "
     ]
    }
   ],
   "source": [
    "def factorslist(n):\n",
    "    i=1;\n",
    "    while(i!=n):\n",
    "        if(n%i==0):\n",
    "            print(i,end=\" \");\n",
    "        i=i+1;\n",
    "    return ;\n",
    "factorslist(12);\n",
    "\n",
    "            "
   ]
  },
  {
   "cell_type": "code",
   "execution_count": 10,
   "metadata": {},
   "outputs": [
    {
     "name": "stdout",
     "output_type": "stream",
     "text": [
      "[1, 2, 3, 4, 5]\n",
      "3\n"
     ]
    }
   ],
   "source": [
    "list1=[1,2,3,4,5];\n",
    "print(list1);\n",
    "print(list1[2])"
   ]
  },
  {
   "cell_type": "code",
   "execution_count": 12,
   "metadata": {},
   "outputs": [
    {
     "name": "stdout",
     "output_type": "stream",
     "text": [
      "asd sds qwer rty "
     ]
    }
   ],
   "source": [
    "list1=['asd','sds','qwer','rty'];\n",
    "for x in list1:\n",
    "    print(x,end= ' ')"
   ]
  },
  {
   "cell_type": "code",
   "execution_count": 19,
   "metadata": {},
   "outputs": [
    {
     "name": "stdout",
     "output_type": "stream",
     "text": [
      "1 2 3 4 5 6 7 \n",
      "4\n",
      "[4, 5, 6]\n",
      "[1, 2, 3, 4, 5]\n"
     ]
    }
   ],
   "source": [
    "list2=[1,2,3,4,5,6,7];\n",
    "for x in list2:\n",
    "    print(x,end= ' ')\n",
    "print()   \n",
    "print(list2[3])\n",
    "print(list2[3:6])\n",
    "print(list2[:5])"
   ]
  },
  {
   "cell_type": "code",
   "execution_count": 27,
   "metadata": {},
   "outputs": [
    {
     "name": "stdout",
     "output_type": "stream",
     "text": [
      "1 2 3 4 5 6 7 8 9 \n",
      "[2, 3, 4, 5, 6, 7, 8]\n",
      "[3, 4, 5, 6, 7]\n",
      "[2, 3, 4, 5, 6, 7, 8]\n",
      "[1, 5, 9]\n",
      "[9, 7, 5, 3, 1]\n"
     ]
    }
   ],
   "source": [
    "list3=[1,2,3,4,5,6,7,8,9]\n",
    "for x in list3:\n",
    "    print(x,end= ' ')\n",
    "    \n",
    "print()\n",
    "print(list3[1:-1])\n",
    "print(list3[2:-2])\n",
    "print(list3[1:-1])\n",
    "print(list3[::4])\n",
    "print(list3[::-2])\n"
   ]
  },
  {
   "cell_type": "code",
   "execution_count": 39,
   "metadata": {},
   "outputs": [
    {
     "name": "stdout",
     "output_type": "stream",
     "text": [
      "['asd', 'qwe', 'fdcf']\n",
      "['asd', 'qwe', 15]\n",
      "['gitam', 'qwe']\n",
      "[1, 2, 3]\n",
      "['gitam', 'qwe', 1, 2, 3]\n",
      "2\n"
     ]
    }
   ],
   "source": [
    "list1=['asd','qwe','fdcf']\n",
    "print(list1)\n",
    "list1[2]=15\n",
    "print(list1)\n",
    "del list1[2]\n",
    "list1[0]='gitam'\n",
    "print(list1)\n",
    "list2=[1,2,3]\n",
    "print(list2)\n",
    "print(list1+list2)\n",
    "print(len (list1))"
   ]
  },
  {
   "cell_type": "code",
   "execution_count": 42,
   "metadata": {},
   "outputs": [
    {
     "name": "stdout",
     "output_type": "stream",
     "text": [
      "[1, 2, 3, 4, 5]\n",
      "[1, 2, 3, 4, 5, 12]\n"
     ]
    }
   ],
   "source": [
    "list2=[1,2,3,4,5]\n",
    "print(list2)\n",
    "list2.append(12)\n",
    "print(list2)"
   ]
  },
  {
   "cell_type": "code",
   "execution_count": 47,
   "metadata": {},
   "outputs": [
    {
     "name": "stdout",
     "output_type": "stream",
     "text": [
      "[1, 2, 3, 4, 5]\n",
      "[1, 2, 3, 4, 5, 12, 132, 2, 1]\n",
      "2\n",
      "1\n"
     ]
    }
   ],
   "source": [
    "list2=[1,2,3,4,5]\n",
    "print(list2)\n",
    "list2.append(12)\n",
    "list2.append(132)\n",
    "list2.append(2)\n",
    "list2.append(1)\n",
    "print(list2)\n",
    "print(list2.count(2))\n",
    "print(list2.count(3))"
   ]
  },
  {
   "cell_type": "code",
   "execution_count": 7,
   "metadata": {},
   "outputs": [
    {
     "name": "stdout",
     "output_type": "stream",
     "text": [
      "['gitam', 'asd', 1, 12, 'asd']\n",
      "5\n",
      "['gitam', 'asd', 2109, 1, 12, 'asd']\n"
     ]
    }
   ],
   "source": [
    "list1=['gitam','asd',1,12,'asd']\n",
    "print(list1)\n",
    "list1.index(1)\n",
    "print(len(list1))\n",
    "list1.insert(2,2109)\n",
    "print(list1)"
   ]
  },
  {
   "cell_type": "code",
   "execution_count": 12,
   "metadata": {},
   "outputs": [
    {
     "name": "stdout",
     "output_type": "stream",
     "text": [
      "['asd', 'qwe', 'ert', 'rty']\n",
      "['qwe', 'ert', 'rty']\n",
      "['rty', 'ert', 'qwe']\n"
     ]
    }
   ],
   "source": [
    "list1=['asd','qwe','ert','rty']\n",
    "print(list1)\n",
    "list1.remove('asd')\n",
    "print(list1)\n",
    "list1.reverse()\n",
    "print(list1)"
   ]
  },
  {
   "cell_type": "code",
   "execution_count": 10,
   "metadata": {},
   "outputs": [
    {
     "name": "stdout",
     "output_type": "stream",
     "text": [
      "target is not found\n"
     ]
    }
   ],
   "source": [
    "def linearsearch(a,traitem):\n",
    "    flag=0\n",
    "    for i in range(len(a)):\n",
    "        \n",
    "        if a[i]==traitem:\n",
    "             flag= 1;\n",
    "        break\n",
    "    if(flag!=0):\n",
    "        print('target is founf')\n",
    "    else:\n",
    "        print('target is not found')\n",
    "    \n",
    "a=[12,2,3,5,6,]\n",
    "linearsearch(a,2)"
   ]
  },
  {
   "cell_type": "code",
   "execution_count": 11,
   "metadata": {},
   "outputs": [
    {
     "name": "stdout",
     "output_type": "stream",
     "text": [
      "    ! ! !     "
     ]
    }
   ],
   "source": [
    "def linearsearch(a,ele):\n",
    " for i in range(len(a)):\n",
    "   if a[i]==ele:\n",
    "     k=i\n",
    "     while k>=0:\n",
    "       print(\"!\",end=\" \")\n",
    "       k=k-1\n",
    "   print(\" \",end=\" \")\n",
    "a=[20,14,15,16]\n",
    "linearsearch(a,15)\n"
   ]
  },
  {
   "cell_type": "code",
   "execution_count": null,
   "metadata": {},
   "outputs": [],
   "source": [
    "def binary_search(a,ele):\n",
    "    low = 0\n",
    "    high = len(a) - 1\n",
    "    flag = 0\n",
    "    while low<=high:    \n",
    "        mid = (low + high)//2r\n",
    "        if a[mid]==ele:\n",
    "            flag = 1\n",
    "            break\n",
    "        elif a[mid]>ele:\n",
    "            high = mid-1\n",
    "        else:\n",
    "            low = mid+1\n",
    "    if flag == 1:\n",
    "        print(\"found\")\n",
    "    else:\n",
    "        print(\"not found\")\n",
    "a= [1,21,34,56,75,90,98]\n",
    "binary_search(a,98)\n"
   ]
  },
  {
   "cell_type": "code",
   "execution_count": 6,
   "metadata": {},
   "outputs": [
    {
     "name": "stdout",
     "output_type": "stream",
     "text": [
      "2 6 19 45 "
     ]
    }
   ],
   "source": [
    "def bubblesort(a):\n",
    "    for i in range(len(a)-1):\n",
    "        for j in range(len(a)-1):\n",
    "            if a[j]>a[j+1]:\n",
    "                a[j],a[j+1]=a[j+1],a[j]\n",
    "    for i in range(len(a)):\n",
    "        print(a[i],end=' ')\n",
    "list1=[19,2,45,6]\n",
    "bubblesort(list1)"
   ]
  },
  {
   "cell_type": "code",
   "execution_count": null,
   "metadata": {},
   "outputs": [],
   "source": [
    "def countofchars(str)\n"
   ]
  }
 ],
 "metadata": {
  "kernelspec": {
   "display_name": "Python 3",
   "language": "python",
   "name": "python3"
  },
  "language_info": {
   "codemirror_mode": {
    "name": "ipython",
    "version": 3
   },
   "file_extension": ".py",
   "mimetype": "text/x-python",
   "name": "python",
   "nbconvert_exporter": "python",
   "pygments_lexer": "ipython3",
   "version": "3.7.3"
  }
 },
 "nbformat": 4,
 "nbformat_minor": 2
}
